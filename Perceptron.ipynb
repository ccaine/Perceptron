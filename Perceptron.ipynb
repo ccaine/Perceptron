{
 "cells": [
  {
   "cell_type": "code",
   "execution_count": 1,
   "metadata": {},
   "outputs": [],
   "source": [
    "import numpy as np\n",
    "import pandas as pd\n",
    "from random import randint"
   ]
  },
  {
   "cell_type": "code",
   "execution_count": 2,
   "metadata": {},
   "outputs": [],
   "source": [
    "# Read in data\n",
    "with open('../pa3train.txt') as f:\n",
    "    train = f.readlines()\n",
    "train = [x.strip() for x in train] \n",
    "\n",
    "with open('../pa3test.txt') as f:\n",
    "    test = f.readlines()\n",
    "test = [x.strip() for x in test] "
   ]
  },
  {
   "cell_type": "code",
   "execution_count": 3,
   "metadata": {},
   "outputs": [],
   "source": [
    "# create empty lists for data sorting\n",
    "trainData = []\n",
    "trainLabel = []\n",
    "\n",
    "testData = []\n",
    "testLabel = []"
   ]
  },
  {
   "cell_type": "code",
   "execution_count": 4,
   "metadata": {},
   "outputs": [],
   "source": [
    "# Remove spaces and split into label/data\n",
    "for i in range (0,len(train)):\n",
    "    train[i] = train[i].split(\" \")\n",
    "    trainLabel.append(train[i][819])\n",
    "    trainData.append(train[i][:819])\n",
    "\n",
    "for i in range (0,len(test)):\n",
    "    test[i] = test[i].split(\" \")\n",
    "    testLabel.append(test[i][819])\n",
    "    testData.append(test[i][:819])"
   ]
  },
  {
   "cell_type": "code",
   "execution_count": 5,
   "metadata": {},
   "outputs": [],
   "source": [
    "# convert label string to int\n",
    "trainLabel = [int(i) for i in trainLabel]\n",
    "\n",
    "testLabel = [int(i) for i in testLabel]"
   ]
  },
  {
   "cell_type": "code",
   "execution_count": 6,
   "metadata": {},
   "outputs": [],
   "source": [
    "# convert data string to int\n",
    "for i in range(0,len(trainData)):\n",
    "    trainData[i] = [int(j) for j in trainData[i]]\n",
    "    \n",
    "for i in range(0,len(testData)):\n",
    "    testData[i] = [int(j) for j in testData[i]]"
   ]
  },
  {
   "cell_type": "code",
   "execution_count": 7,
   "metadata": {},
   "outputs": [],
   "source": [
    "def dotProd(vecA, vecB):\n",
    "    output = 0\n",
    "    for i in range (0,len(vecA)):\n",
    "        mult = vecA[i]*vecB[i]\n",
    "        output = output + mult\n",
    "    return output"
   ]
  },
  {
   "cell_type": "code",
   "execution_count": 8,
   "metadata": {},
   "outputs": [],
   "source": [
    "# create empty lists for data subset\n",
    "subTrainData = []\n",
    "subTrainLabel = []\n",
    "\n",
    "subTestData = []\n",
    "subTestLabel = []\n",
    "\n",
    "subTrainSign = []\n",
    "subTestSign = []"
   ]
  },
  {
   "cell_type": "code",
   "execution_count": 9,
   "metadata": {},
   "outputs": [],
   "source": [
    "# grab subsets with label = 1 or 2\n",
    "for i in range (0,len(trainData)):\n",
    "    if trainLabel[i] == 1 or trainLabel[i] == 2:\n",
    "        subTrainData.append(trainData[i])\n",
    "        subTrainLabel.append(trainLabel[i])\n",
    "        # map labels to 1 = -1 and 2 = 1\n",
    "        if trainLabel[i] == 1:\n",
    "            subTrainSign.append(-1)\n",
    "        else:\n",
    "            subTrainSign.append(1)\n",
    "\n",
    "for i in range (0, len(testData)):\n",
    "    if testLabel[i] == 1 or testLabel[i] == 2:\n",
    "        subTestData.append(testData[i])\n",
    "        subTestLabel.append(testLabel[i])\n",
    "        # map labels to 1 = -1 and 2 = 1\n",
    "        if testLabel[i] == 1:\n",
    "            subTestSign.append(-1)\n",
    "        else:\n",
    "            subTestSign.append(1)"
   ]
  },
  {
   "cell_type": "code",
   "execution_count": 34,
   "metadata": {},
   "outputs": [],
   "source": [
    "# init w to 0\n",
    "wReg = subTrainData[0]\n",
    "counts = 0"
   ]
  },
  {
   "cell_type": "code",
   "execution_count": 42,
   "metadata": {},
   "outputs": [],
   "source": [
    "# each training data value\n",
    "for i in range (1,len(subTrainData)):\n",
    "    location = subTrainSign[i]*dotProd(wReg,subTrainData[i])\n",
    "    \n",
    "    # check if the sign is zero\n",
    "    if location == 0:\n",
    "        if(randint(0,1) == 0):\n",
    "            location = -1\n",
    "        else:\n",
    "            location = 1\n",
    "    \n",
    "    # if location is negative update w\n",
    "    if location < 0:\n",
    "        # update each feature of w\n",
    "        counts += 1\n",
    "        for j in range (0,len(subTrainData[0])):\n",
    "            wReg[j] = wReg[j] + (subTrainSign[i]*subTrainData[i][j])"
   ]
  },
  {
   "cell_type": "code",
   "execution_count": 43,
   "metadata": {},
   "outputs": [
    {
     "data": {
      "text/plain": [
       "22"
      ]
     },
     "execution_count": 43,
     "metadata": {},
     "output_type": "execute_result"
    }
   ],
   "source": [
    "counts"
   ]
  },
  {
   "cell_type": "code",
   "execution_count": 44,
   "metadata": {},
   "outputs": [],
   "source": [
    "preds = []\n",
    "into = 0\n",
    "for i in range (0,len(subTrainData)):\n",
    "    # clac dot product of w and the training data\n",
    "    labelPred = dotProd(wReg,subTrainData[i])\n",
    "    \n",
    "    # check if dotProd is zero if yes randomly choose a label\n",
    "    if np.sign(labelPred) == 0:\n",
    "        into += 1\n",
    "        if(randint(0,1) == 0):\n",
    "            preds.append(-1)\n",
    "        else:\n",
    "            preds.append(1)\n",
    "    # greater than 0 means its a positve label\n",
    "    elif np.sign(labelPred) > 0:\n",
    "        preds.append(1)\n",
    "    # less than means negative\n",
    "    else:\n",
    "        preds.append(-1)    "
   ]
  },
  {
   "cell_type": "code",
   "execution_count": 45,
   "metadata": {},
   "outputs": [],
   "source": [
    "wrong = 0\n",
    "# calculate # of wrong predictions\n",
    "for i in range (0,len(preds)):\n",
    "    if preds[i] != subTrainSign[i]:\n",
    "        wrong += 1"
   ]
  },
  {
   "cell_type": "code",
   "execution_count": 46,
   "metadata": {},
   "outputs": [],
   "source": [
    "err = wrong/len(preds)"
   ]
  },
  {
   "cell_type": "code",
   "execution_count": 47,
   "metadata": {},
   "outputs": [
    {
     "data": {
      "text/plain": [
       "0.006422018348623854"
      ]
     },
     "execution_count": 47,
     "metadata": {},
     "output_type": "execute_result"
    }
   ],
   "source": [
    "err"
   ]
  },
  {
   "cell_type": "code",
   "execution_count": 41,
   "metadata": {},
   "outputs": [
    {
     "data": {
      "text/plain": [
       "6"
      ]
     },
     "execution_count": 41,
     "metadata": {},
     "output_type": "execute_result"
    }
   ],
   "source": [
    "into"
   ]
  },
  {
   "cell_type": "code",
   "execution_count": null,
   "metadata": {},
   "outputs": [],
   "source": []
  },
  {
   "cell_type": "code",
   "execution_count": null,
   "metadata": {},
   "outputs": [],
   "source": []
  }
 ],
 "metadata": {
  "kernelspec": {
   "display_name": "Python 3",
   "language": "python",
   "name": "python3"
  },
  "language_info": {
   "codemirror_mode": {
    "name": "ipython",
    "version": 3
   },
   "file_extension": ".py",
   "mimetype": "text/x-python",
   "name": "python",
   "nbconvert_exporter": "python",
   "pygments_lexer": "ipython3",
   "version": "3.6.3"
  }
 },
 "nbformat": 4,
 "nbformat_minor": 2
}
